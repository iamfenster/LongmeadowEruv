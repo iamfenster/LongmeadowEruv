{
  "nbformat": 4,
  "nbformat_minor": 0,
  "metadata": {
    "colab": {
      "provenance": [],
      "include_colab_link": true
    },
    "kernelspec": {
      "name": "python3",
      "display_name": "Python 3"
    },
    "language_info": {
      "name": "python"
    }
  },
  "cells": [
    {
      "cell_type": "markdown",
      "metadata": {
        "id": "view-in-github",
        "colab_type": "text"
      },
      "source": [
        "<a href=\"https://colab.research.google.com/github/iamfenster/LongmeadowEruv/blob/main/MyFirstAgent.ipynb\" target=\"_parent\"><img src=\"https://colab.research.google.com/assets/colab-badge.svg\" alt=\"Open In Colab\"/></a>"
      ]
    },
    {
      "cell_type": "code",
      "source": [
        "!!pip install litellm\n",
        "\n",
        "# Important!!!\n",
        "#\n",
        "# <---- Set your 'OPENAI_API_KEY' as a secret over there with the \"key\" icon\n",
        "#\n",
        "#\n",
        "import os\n",
        "from google.colab import userdata\n",
        "api_key = userdata.get('OPENAI_API_KEY')\n",
        "os.environ['OPENAI_API_KEY'] = api_key"
      ],
      "metadata": {
        "id": "KEYrzG2vB8Ip"
      },
      "execution_count": null,
      "outputs": []
    },
    {
      "cell_type": "code",
      "execution_count": null,
      "metadata": {
        "colab": {
          "base_uri": "https://localhost:8080/"
        },
        "id": "Mwe2eeOQB0cC",
        "outputId": "6f3688dc-2af5-4f56-df9c-af38104af76c"
      },
      "outputs": [
        {
          "output_type": "stream",
          "name": "stdout",
          "text": [
            "What function would you like me to write? write a function that takes in two numbers, divides the first by the second and returns the result rounded to the nearest whole number.\n",
            "Certainly! Here's how you can write a suite of tests for the `divide_and_round` function using Python's `unittest` framework. \n",
            "\n",
            "```python\n",
            "import unittest\n",
            "\n",
            "def divide_and_round(num1, num2):\n",
            "    if num2 == 0:\n",
            "        raise ValueError(\"Cannot divide by zero.\")\n",
            "    result = num1 / num2\n",
            "    return round(result)\n",
            "\n",
            "class TestDivideAndRound(unittest.TestCase):\n",
            "    \n",
            "    # Test basic functionality\n",
            "    def test_basic_functionality(self):\n",
            "        self.assertEqual(divide_and_round(10, 3), 3)\n",
            "        self.assertEqual(divide_and_round(7.5, 2.5), 3)\n",
            "        self.assertEqual(divide_and_round(-9, 2), -4)\n",
            "    \n",
            "    # Test edge cases\n",
            "    def test_edge_cases(self):\n",
            "        self.assertEqual(divide_and_round(0, 5), 0)  # num1 is zero\n",
            "        self.assertEqual(divide_and_round(10, 1), 10)  # num2 is one\n",
            "        self.assertEqual(divide_and_round(10, -1), -10)  # num2 is negative one\n",
            "        self.assertEqual(divide_and_round(1.5, 0.5), 3)  # division with a smaller odd divisor\n",
            "\n",
            "    # Test error cases\n",
            "    def test_error_cases(self):\n",
            "        with self.assertRaises(ValueError):\n",
            "            divide_and_round(10, 0)  # num2 is zero\n",
            "\n",
            "    # Test various input scenarios\n",
            "    def test_various_inputs(self):\n",
            "        self.assertEqual(divide_and_round(-10, -3), 3)\n",
            "        self.assertEqual(divide_and_round(10.1, 2), 5)\n",
            "        self.assertEqual(divide_and_round(9.9, 2), 5)\n",
            "        self.assertEqual(divide_and_round(-10, 3), -3)\n",
            "        self.assertEqual(divide_and_round(0, -5), 0)\n",
            "\n",
            "    # Test rounding behavior\n",
            "    def test_rounding_behavior(self):\n",
            "        self.assertEqual(divide_and_round(10, 4), 3)  # 2.5 rounds to 3\n",
            "        self.assertEqual(divide_and_round(5, 2), 3)   # 2.5 rounds to 3\n",
            "        self.assertEqual(divide_and_round(15, 4), 4)  # 3.75 rounds to 4\n",
            "\n",
            "if __name__ == \"__main__\":\n",
            "    unittest.main()\n",
            "```\n",
            "\n",
            "### Explanation:\n",
            "\n",
            "- **Basic Functionality**: These test cases cover typical scenarios with positive and negative inputs where the division results in a straightforward rounding to the nearest integer.\n",
            "  \n",
            "- **Edge Cases**: Test unusual but valid inputs, such as when the numerator is zero, the denominator is one or minus one, and small divisor scenarios.\n",
            "\n",
            "- **Error Cases**: Ensure that divide by zero raises the correct `ValueError`.\n",
            "\n",
            "- **Various Input Scenarios**: Covers cases with both negative dividends and divisors.\n",
            "\n",
            "- **Rounding Behavior**: These tests specifically check the function's rounding behavior, ensuring it correctly rounds half-up to the nearest integer.\n",
            "\n",
            "You can add this to a Python file, and running it will execute all the test cases to verify the function behaves correctly under all specified conditions. Use the command `python -m unittest <filename>.py` to run the tests.\n"
          ]
        }
      ],
      "source": [
        "from litellm import completion\n",
        "from typing import List, Dict\n",
        "\n",
        "\n",
        "def generate_response(messages: List[Dict]) -> str:\n",
        "    \"\"\"Call LLM to get response\"\"\"\n",
        "    response = completion(\n",
        "        model=\"openai/gpt-4o\",\n",
        "        messages=messages,\n",
        "        max_tokens=1024\n",
        "    )\n",
        "    return response.choices[0].message.content\n",
        "\n",
        "def ask_user() -> str:\n",
        "    response = input(\"What function would you like me to write? \")\n",
        "    return response\n",
        "\n",
        "user_input = ask_user()\n",
        "\n",
        "messages = [\n",
        "   {\"role\": \"system\", \"content\": \"You are an expert software engineer that prefers Python.\"},\n",
        "   {\"role\": \"user\", \"content\": user_input}\n",
        "]\n",
        "\n",
        "response1 = generate_response(messages)\n",
        "\n",
        "messages = [\n",
        "   {\"role\": \"system\", \"content\": \"You are an expert software engineer that prefers Python.\"},\n",
        "   {\"role\": \"assistant\", \"content\": response1},\n",
        "   {\"role\": \"user\", \"content\": \"Add comprehensive documentation including Function description, Parameter descriptions, Return value description, Example usage, Edge cases\"}\n",
        "]\n",
        "\n",
        "response2 = generate_response(messages)\n",
        "\n",
        "messages = [\n",
        "   {\"role\": \"system\", \"content\": \"You are an expert software engineer that prefers Python.\"},\n",
        "   {\"role\": \"assistant\", \"content\": response2},\n",
        "   {\"role\": \"user\", \"content\": \"Add test cases using Python’s unittest framework. Tests should cover Basic functionality, Edge cases, Error cases, Various input scenarios\"}\n",
        "]\n",
        "\n",
        "response3 = generate_response(messages)\n",
        "print(response3)\n",
        "\n",
        "\n"
      ]
    }
  ]
}